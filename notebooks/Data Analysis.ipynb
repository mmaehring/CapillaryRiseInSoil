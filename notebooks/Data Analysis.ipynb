{
 "cells": [
  {
   "cell_type": "code",
   "execution_count": 42,
   "id": "a91aa718",
   "metadata": {},
   "outputs": [],
   "source": [
    "## Path manipulation\n",
    "import pathlib\n",
    "import glob\n",
    "\n",
    "## General array utilities\n",
    "import numpy as np\n",
    "import matplotlib.pyplot as plt\n",
    "\n",
    "## Image utilities\n",
    "import skimage.io as io\n",
    "import skimage.filters as flt"
   ]
  },
  {
   "cell_type": "markdown",
   "id": "873bcf59",
   "metadata": {},
   "source": [
    "Import data"
   ]
  },
  {
   "cell_type": "code",
   "execution_count": 36,
   "id": "9fa52dd9",
   "metadata": {},
   "outputs": [
    {
     "name": "stdout",
     "output_type": "stream",
     "text": [
      "C:\\Users\\marcu\\OneDrive\\Desktop\\PraktikumIII\\CapillaryRiseInSoil\\data\\02_rawdata\n"
     ]
    }
   ],
   "source": [
    "data_directory = (pathlib.Path.cwd()).parents[0] / \"data\" / \"02_rawdata\"\n",
    "print(path_to_data)"
   ]
  },
  {
   "cell_type": "code",
   "execution_count": 38,
   "id": "a53872b4",
   "metadata": {},
   "outputs": [],
   "source": [
    "paths_to_data = [i for i in pathlib.Path(path_to_data).iterdir()]"
   ]
  },
  {
   "cell_type": "code",
   "execution_count": 51,
   "id": "71b83a23",
   "metadata": {},
   "outputs": [],
   "source": [
    "Sample_Sand_File = [i for i in (paths_to_data[-1] / \"4\").rglob(\"*.fits\")][23]"
   ]
  },
  {
   "cell_type": "code",
   "execution_count": 69,
   "id": "103fae9f",
   "metadata": {},
   "outputs": [
    {
     "data": {
      "text/plain": [
       "'C:\\\\Users\\\\marcu\\\\OneDrive\\\\Desktop\\\\PraktikumIII\\\\CapillaryRiseInSoil\\\\data\\\\02_rawdata\\\\Sand\\\\4\\\\4_00024.fits'"
      ]
     },
     "execution_count": 69,
     "metadata": {},
     "output_type": "execute_result"
    }
   ],
   "source": [
    "str(Sample_Sand_File.resolve())"
   ]
  },
  {
   "cell_type": "markdown",
   "id": "80845af4",
   "metadata": {},
   "source": [
    "Import image"
   ]
  },
  {
   "cell_type": "code",
   "execution_count": 96,
   "id": "a415667e",
   "metadata": {},
   "outputs": [
    {
     "ename": "SyntaxError",
     "evalue": "Not a FITS file (<string>)",
     "output_type": "error",
     "traceback": [
      "Traceback \u001b[1;36m(most recent call last)\u001b[0m:\n",
      "  File \u001b[0;32m\"C:\\Users\\marcu\\anaconda3\\lib\\site-packages\\IPython\\core\\interactiveshell.py\"\u001b[0m, line \u001b[0;32m3437\u001b[0m, in \u001b[0;35mrun_code\u001b[0m\n    exec(code_obj, self.user_global_ns, self.user_ns)\n",
      "  File \u001b[0;32m\"<ipython-input-96-ebcd094d0249>\"\u001b[0m, line \u001b[0;32m1\u001b[0m, in \u001b[0;35m<module>\u001b[0m\n    test_file = io.imread((data_directory/\"Sand\"/\"test_fits.fits\").resolve())\n",
      "  File \u001b[0;32m\"C:\\Users\\marcu\\anaconda3\\lib\\site-packages\\skimage\\io\\_io.py\"\u001b[0m, line \u001b[0;32m48\u001b[0m, in \u001b[0;35mimread\u001b[0m\n    img = call_plugin('imread', fname, plugin=plugin, **plugin_args)\n",
      "  File \u001b[0;32m\"C:\\Users\\marcu\\anaconda3\\lib\\site-packages\\skimage\\io\\manage_plugins.py\"\u001b[0m, line \u001b[0;32m207\u001b[0m, in \u001b[0;35mcall_plugin\u001b[0m\n    return func(*args, **kwargs)\n",
      "  File \u001b[0;32m\"C:\\Users\\marcu\\anaconda3\\lib\\site-packages\\skimage\\io\\_plugins\\imageio_plugin.py\"\u001b[0m, line \u001b[0;32m10\u001b[0m, in \u001b[0;35mimread\u001b[0m\n    return np.asarray(imageio_imread(*args, **kwargs))\n",
      "  File \u001b[0;32m\"C:\\Users\\marcu\\anaconda3\\lib\\site-packages\\imageio\\core\\functions.py\"\u001b[0m, line \u001b[0;32m265\u001b[0m, in \u001b[0;35mimread\u001b[0m\n    reader = read(uri, format, \"i\", **kwargs)\n",
      "  File \u001b[0;32m\"C:\\Users\\marcu\\anaconda3\\lib\\site-packages\\imageio\\core\\functions.py\"\u001b[0m, line \u001b[0;32m186\u001b[0m, in \u001b[0;35mget_reader\u001b[0m\n    return format.get_reader(request)\n",
      "  File \u001b[0;32m\"C:\\Users\\marcu\\anaconda3\\lib\\site-packages\\imageio\\core\\format.py\"\u001b[0m, line \u001b[0;32m170\u001b[0m, in \u001b[0;35mget_reader\u001b[0m\n    return self.Reader(self, request)\n",
      "  File \u001b[0;32m\"C:\\Users\\marcu\\anaconda3\\lib\\site-packages\\imageio\\core\\format.py\"\u001b[0m, line \u001b[0;32m221\u001b[0m, in \u001b[0;35m__init__\u001b[0m\n    self._open(**self.request.kwargs.copy())\n",
      "  File \u001b[0;32m\"C:\\Users\\marcu\\anaconda3\\lib\\site-packages\\imageio\\plugins\\pillow.py\"\u001b[0m, line \u001b[0;32m125\u001b[0m, in \u001b[0;35m_open\u001b[0m\n    self._im = factory(self._fp, \"\")\n",
      "  File \u001b[0;32m\"C:\\Users\\marcu\\anaconda3\\lib\\site-packages\\PIL\\ImageFile.py\"\u001b[0m, line \u001b[0;32m121\u001b[0m, in \u001b[0;35m__init__\u001b[0m\n    self._open()\n",
      "\u001b[1;36m  File \u001b[1;32m\"C:\\Users\\marcu\\anaconda3\\lib\\site-packages\\PIL\\FitsStubImagePlugin.py\"\u001b[1;36m, line \u001b[1;32m55\u001b[1;36m, in \u001b[1;35m_open\u001b[1;36m\u001b[0m\n\u001b[1;33m    raise SyntaxError(\"Not a FITS file\")\u001b[0m\n",
      "\u001b[1;36m  File \u001b[1;32m\"<string>\"\u001b[1;36m, line \u001b[1;32munknown\u001b[0m\n\u001b[1;31mSyntaxError\u001b[0m\u001b[1;31m:\u001b[0m Not a FITS file\n"
     ]
    }
   ],
   "source": [
    "test_file = io.imread((data_directory/\"Sand\"/\"test_fits.fits\").resolve())"
   ]
  },
  {
   "cell_type": "code",
   "execution_count": 95,
   "id": "17d0fa64",
   "metadata": {},
   "outputs": [
    {
     "name": "stdout",
     "output_type": "stream",
     "text": [
      "C:\\Users\\marcu\\OneDrive\\Desktop\\PraktikumIII\\CapillaryRiseInSoil\\data\\02_rawdata\\Sand\\2 C:\\Users\\marcu\\OneDrive\\Desktop\\PraktikumIII\\CapillaryRiseInSoil\\data\\02_rawdata\\Sand\\3 C:\\Users\\marcu\\OneDrive\\Desktop\\PraktikumIII\\CapillaryRiseInSoil\\data\\02_rawdata\\Sand\\4 C:\\Users\\marcu\\OneDrive\\Desktop\\PraktikumIII\\CapillaryRiseInSoil\\data\\02_rawdata\\Sand\\test_fits.fits\n"
     ]
    }
   ],
   "source": [
    "print(*((data_directory/\"Sand\").glob(\"*\")))"
   ]
  },
  {
   "cell_type": "code",
   "execution_count": null,
   "id": "f0ad5fdd",
   "metadata": {},
   "outputs": [],
   "source": [
    "\n"
   ]
  }
 ],
 "metadata": {
  "kernelspec": {
   "display_name": "Python 3",
   "language": "python",
   "name": "python3"
  },
  "language_info": {
   "codemirror_mode": {
    "name": "ipython",
    "version": 3
   },
   "file_extension": ".py",
   "mimetype": "text/x-python",
   "name": "python",
   "nbconvert_exporter": "python",
   "pygments_lexer": "ipython3",
   "version": "3.8.5"
  }
 },
 "nbformat": 4,
 "nbformat_minor": 5
}
