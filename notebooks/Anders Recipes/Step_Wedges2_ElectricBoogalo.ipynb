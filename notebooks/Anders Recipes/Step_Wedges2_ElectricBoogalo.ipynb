{
 "cells": [
  {
   "cell_type": "code",
   "execution_count": 56,
   "id": "c6e30dad",
   "metadata": {},
   "outputs": [],
   "source": [
    "import numpy as np\n",
    "import matplotlib.pyplot as plt\n",
    "import skimage.io as io\n",
    "from skimage.filters import threshold_otsu\n",
    "from skimage.measure import label\n",
    "from uncertainties import ufloat\n",
    "import uncertainties as ct\n",
    "from uncertainties import unumpy as unp\n",
    "from scipy.optimize import curve_fit\n",
    "import importlib\n",
    "import sys\n",
    "\n",
    "sys.path.append('C:\\\\Users\\\\marcu\\\\OneDrive\\\\Desktop\\\\PraktikumIII\\\\CapillaryRiseInSoil\\\\notebooks')\n",
    "\n",
    "import amglib.imageutils as amg\n",
    "import amglib.readers as rd\n",
    "import amglib.bb as bblib\n",
    "\n",
    "import os\n",
    "\n",
    "os.chdir('C:\\\\Users\\\\marcu\\\\OneDrive\\\\Desktop\\\\PraktikumIII\\\\CapillaryRiseInSoil')"
   ]
  },
  {
   "cell_type": "code",
   "execution_count": 57,
   "id": "e03bf1da",
   "metadata": {},
   "outputs": [
    {
     "data": {
      "application/vnd.jupyter.widget-view+json": {
       "model_id": "8a6721dce3dd48c5a078c5445bcb095f",
       "version_major": 2,
       "version_minor": 0
      },
      "text/plain": [
       "  0%|          | 0/10 [00:00<?, ?it/s]"
      ]
     },
     "metadata": {},
     "output_type": "display_data"
    },
    {
     "data": {
      "application/vnd.jupyter.widget-view+json": {
       "model_id": "533d9f7b4d234017bac4999210432344",
       "version_major": 2,
       "version_minor": 0
      },
      "text/plain": [
       "  0%|          | 0/10 [00:00<?, ?it/s]"
      ]
     },
     "metadata": {},
     "output_type": "display_data"
    },
    {
     "data": {
      "application/vnd.jupyter.widget-view+json": {
       "model_id": "a3c8ab022ac14303bc9e3a02c73d0c5f",
       "version_major": 2,
       "version_minor": 0
      },
      "text/plain": [
       "  0%|          | 0/5 [00:00<?, ?it/s]"
      ]
     },
     "metadata": {},
     "output_type": "display_data"
    },
    {
     "data": {
      "application/vnd.jupyter.widget-view+json": {
       "model_id": "dfc355dea27b4fe59a9f795d86f4aa4d",
       "version_major": 2,
       "version_minor": 0
      },
      "text/plain": [
       "  0%|          | 0/5 [00:00<?, ?it/s]"
      ]
     },
     "metadata": {},
     "output_type": "display_data"
    },
    {
     "data": {
      "application/vnd.jupyter.widget-view+json": {
       "model_id": "ce03d9adba6a42e8a898339b3e02357d",
       "version_major": 2,
       "version_minor": 0
      },
      "text/plain": [
       "  0%|          | 0/5 [00:00<?, ?it/s]"
      ]
     },
     "metadata": {},
     "output_type": "display_data"
    },
    {
     "data": {
      "application/vnd.jupyter.widget-view+json": {
       "model_id": "e5ebc9e74fea49fb8c6c74c0194079ac",
       "version_major": 2,
       "version_minor": 0
      },
      "text/plain": [
       "  0%|          | 0/5 [00:00<?, ?it/s]"
      ]
     },
     "metadata": {},
     "output_type": "display_data"
    }
   ],
   "source": [
    "ob = rd.readImages('data/02_rawdata/01_Stepwedges/ob_{0:05d}.fits',first=1,last=11).astype(float).mean(axis=0)\n",
    "dc = rd.readImages('data/02_rawdata/01_Stepwedges/dc_{0:05d}.fits',first=1,last=11).astype(float).mean(axis=0)\n",
    "es = rd.readImages('data/02_rawdata/01_Stepwedges/container_{0:05d}.fits',first=1,last=6).astype(float).mean(axis=0) \n",
    "bb = rd.readImages('data/02_rawdata/01_Stepwedges/bb_{0:05d}.fits',first=1,last=6).astype(float).mean(axis=0)\n",
    "bbes = rd.readImages('data/02_rawdata/01_Stepwedges/water_bb_{0:05d}.fits',first=1,last=6).astype(float).mean(axis=0)\n",
    "water = rd.readImages('data/02_rawdata/01_Stepwedges/water_{0:05d}.fits',first=1,last=6).astype(float).mean(axis=0)"
   ]
  },
  {
   "cell_type": "code",
   "execution_count": 58,
   "id": "8b634749",
   "metadata": {},
   "outputs": [],
   "source": [
    "maskbb,rbb,cbb = bblib.get_black_bodies(bb, greythres=15000, areas=[0, 1000] , R=5)\n",
    "maskbbes,rbbes,cbbes = bblib.get_black_bodies(bbes, greythres=12500, areas=[0, 1000], R=5)\n",
    "maskbb[1000:, :] = 0\n",
    "maskbbes[150:230, :] = 0\n",
    "img_corr_bb = bblib.compute_scatter_image(bb,rbb,cbb)\n",
    "img_corr_bbes = bblib.compute_scatter_image(bbes, rbbes, cbbes)"
   ]
  },
  {
   "cell_type": "markdown",
   "id": "4f05f3d9",
   "metadata": {},
   "source": [
    "### Normalize (Beer Lambert) - with caveats\n",
    "\n",
    "$$p=-log(\\frac{I-I_{dc}}{I_{ob}-I_{dc}})$$ "
   ]
  },
  {
   "cell_type": "code",
   "execution_count": 118,
   "id": "e384d7fc",
   "metadata": {},
   "outputs": [],
   "source": [
    "ob_new = ob - dc - img_corr_bb\n",
    "ob_new[ob_new<1]=1\n",
    "ob_new = ob_new[::-1]\n",
    "\n",
    "water_new = water - dc - img_corr_bbes\n",
    "water_new[water_new<1]=1\n",
    "water_new = water_new[::-1]\n",
    "\n",
    "d0=ob_new[0:600,:].mean()\n",
    "d=water_new[0:600,:].mean()\n",
    "\n",
    "p = -np.log(d0/d*(water_new)/(ob_new))"
   ]
  },
  {
   "cell_type": "code",
   "execution_count": 119,
   "id": "769e0979",
   "metadata": {},
   "outputs": [
    {
     "data": {
      "text/plain": [
       "(16363.254992591837, 19380.505077991053, 0.8443151985328972)"
      ]
     },
     "execution_count": 119,
     "metadata": {},
     "output_type": "execute_result"
    }
   ],
   "source": [
    "d0, d, d0/d"
   ]
  },
  {
   "cell_type": "code",
   "execution_count": 120,
   "id": "7ec6c4e6",
   "metadata": {},
   "outputs": [
    {
     "data": {
      "image/png": "[encoded data removed]",
      "text/plain": [
       "<Figure size 432x288 with 2 Axes>"
      ]
     },
     "metadata": {
      "needs_background": "light"
     },
     "output_type": "display_data"
    }
   ],
   "source": [
    "plt.imshow(p[500:1000,0:1150])\n",
    "plt.colorbar(shrink=0.75);"
   ]
  },
  {
   "cell_type": "code",
   "execution_count": 121,
   "id": "2bca6a33",
   "metadata": {},
   "outputs": [],
   "source": [
    "p1=p[:,200:250].mean(axis=1)"
   ]
  },
  {
   "cell_type": "code",
   "execution_count": 122,
   "id": "f25d8a89",
   "metadata": {},
   "outputs": [
    {
     "data": {
      "text/plain": [
       "[<matplotlib.lines.Line2D at 0x1e198010b80>]"
      ]
     },
     "execution_count": 122,
     "metadata": {},
     "output_type": "execute_result"
    },
    {
     "data": {
      "image/png": "[encoded data removed]",
      "text/plain": [
       "<Figure size 432x288 with 1 Axes>"
      ]
     },
     "metadata": {
      "needs_background": "light"
     },
     "output_type": "display_data"
    }
   ],
   "source": [
    "plt.plot(p1[600:950])"
   ]
  },
  {
   "cell_type": "code",
   "execution_count": 123,
   "id": "dfa02213",
   "metadata": {},
   "outputs": [
    {
     "data": {
      "text/plain": [
       "3.0660928848854403"
      ]
     },
     "execution_count": 123,
     "metadata": {},
     "output_type": "execute_result"
    }
   ],
   "source": [
    "dp1 = p1[:-1]-p1[1:]\n",
    "mask = dp1<0.005\n",
    "l=label(mask)\n",
    "p10=p1[1:]\n",
    "np.mean(p10[l==0]) "
   ]
  }
 ],
 "metadata": {
  "kernelspec": {
   "display_name": "Python 3",
   "language": "python",
   "name": "python3"
  },
  "language_info": {
   "codemirror_mode": {
    "name": "ipython",
    "version": 3
   },
   "file_extension": ".py",
   "mimetype": "text/x-python",
   "name": "python",
   "nbconvert_exporter": "python",
   "pygments_lexer": "ipython3",
   "version": "3.8.5"
  }
 },
 "nbformat": 4,
 "nbformat_minor": 5
}
